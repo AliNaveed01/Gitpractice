{
 "cells": [
  {
   "cell_type": "code",
   "execution_count": 1,
   "metadata": {},
   "outputs": [
    {
     "name": "stderr",
     "output_type": "stream",
     "text": [
      "2024-03-22 09:30:58.772783: E external/local_xla/xla/stream_executor/cuda/cuda_dnn.cc:9261] Unable to register cuDNN factory: Attempting to register factory for plugin cuDNN when one has already been registered\n",
      "2024-03-22 09:30:58.772837: E external/local_xla/xla/stream_executor/cuda/cuda_fft.cc:607] Unable to register cuFFT factory: Attempting to register factory for plugin cuFFT when one has already been registered\n",
      "2024-03-22 09:30:58.773883: E external/local_xla/xla/stream_executor/cuda/cuda_blas.cc:1515] Unable to register cuBLAS factory: Attempting to register factory for plugin cuBLAS when one has already been registered\n",
      "2024-03-22 09:30:58.786018: I tensorflow/core/platform/cpu_feature_guard.cc:182] This TensorFlow binary is optimized to use available CPU instructions in performance-critical operations.\n",
      "To enable the following instructions: AVX2 FMA, in other operations, rebuild TensorFlow with the appropriate compiler flags.\n",
      "2024-03-22 09:31:00.208574: W tensorflow/compiler/tf2tensorrt/utils/py_utils.cc:38] TF-TRT Warning: Could not find TensorRT\n"
     ]
    }
   ],
   "source": [
    "import numpy as np\n",
    "import pandas as pd\n",
    "import tensorflow as tf\n",
    "from tensorflow import keras\n",
    "from tensorflow.keras import layers\n",
    "from sklearn.model_selection import train_test_split\n",
    "# import load model and save model\n",
    "from tensorflow.keras.models import load_model, save_model, model_from_json, model_from_yaml\n",
    "import os\n",
    "import random\n",
    "import time"
   ]
  },
  {
   "cell_type": "code",
   "execution_count": 3,
   "metadata": {},
   "outputs": [
    {
     "name": "stdout",
     "output_type": "stream",
     "text": [
      "Total clothes files: 568\n",
      "Total models files: 568\n",
      "Total trash files: 1838\n"
     ]
    }
   ],
   "source": [
    "# load the pictures from clothes folder\n",
    "clothes_folder = os.path.join(\"/home/umermansoor/Downloads/ml1_internship/ecommerce_scraping/modivo.pl/predicted/done/0\")\n",
    "# list the files in the folder\n",
    "clothes_files = os.listdir(clothes_folder)\n",
    "# print the list of files\n",
    "print(f\"Total clothes files: {len(clothes_files)}\")\n",
    "\n",
    "# load the pictures from models folder\n",
    "modelsfolder = os.path.join(\"/home/umermansoor/Downloads/ml1_internship/ecommerce_scraping/modivo.pl/predicted/done/1\")\n",
    "# list the files in the folder\n",
    "modelsfiles = os.listdir(modelsfolder)\n",
    "# print the list of files\n",
    "print(f\"Total models files: {len(modelsfiles)}\")\n",
    "\n",
    "\n",
    "# load the pictures from trash folder\n",
    "trashfolder = os.path.join(\"/home/umermansoor/Downloads/ml1_internship/ecommerce_scraping/modivo.pl/predicted/done/2\")\n",
    "# list the files in the folder\n",
    "trashfiles = os.listdir(trashfolder)\n",
    "# print the list of files\n",
    "print(f\"Total trash files: {len(trashfiles)}\")"
   ]
  },
  {
   "cell_type": "code",
   "execution_count": 4,
   "metadata": {},
   "outputs": [],
   "source": [
    "# now store the images in a list, their paths in a list and assign them label 0\n",
    "images = []\n",
    "images_path = []\n",
    "labels = []\n",
    "for file in clothes_files:\n",
    "    images_path.append(os.path.join(clothes_folder, file))\n",
    "    images.append(tf.keras.preprocessing.image.load_img(os.path.join(clothes_folder, file), target_size=(227, 227)))\n",
    "    labels.append(0)\n",
    "\n",
    "\n",
    "for file in modelsfiles:\n",
    "    images_path.append(os.path.join(modelsfolder, file))\n",
    "    images.append(tf.keras.preprocessing.image.load_img(os.path.join(modelsfolder, file), target_size=(227, 227)))\n",
    "    labels.append(1)\n",
    "    \n",
    "    \n",
    "for file in trashfiles:\n",
    "    images_path.append(os.path.join(trashfolder, file))\n",
    "    images.append(tf.keras.preprocessing.image.load_img(os.path.join(trashfolder, file), target_size=(227, 227)))\n",
    "    labels.append(2)"
   ]
  },
  {
   "cell_type": "code",
   "execution_count": 5,
   "metadata": {},
   "outputs": [
    {
     "data": {
      "text/html": [
       "<div>\n",
       "<style scoped>\n",
       "    .dataframe tbody tr th:only-of-type {\n",
       "        vertical-align: middle;\n",
       "    }\n",
       "\n",
       "    .dataframe tbody tr th {\n",
       "        vertical-align: top;\n",
       "    }\n",
       "\n",
       "    .dataframe thead th {\n",
       "        text-align: right;\n",
       "    }\n",
       "</style>\n",
       "<table border=\"1\" class=\"dataframe\">\n",
       "  <thead>\n",
       "    <tr style=\"text-align: right;\">\n",
       "      <th></th>\n",
       "      <th>Images</th>\n",
       "      <th>Labels</th>\n",
       "      <th>Images Path</th>\n",
       "    </tr>\n",
       "  </thead>\n",
       "  <tbody>\n",
       "    <tr>\n",
       "      <th>0</th>\n",
       "      <td>&lt;PIL.Image.Image image mode=RGB size=227x227 a...</td>\n",
       "      <td>0</td>\n",
       "      <td>/home/umermansoor/Downloads/ml1_internship/eco...</td>\n",
       "    </tr>\n",
       "    <tr>\n",
       "      <th>1</th>\n",
       "      <td>&lt;PIL.Image.Image image mode=RGB size=227x227 a...</td>\n",
       "      <td>0</td>\n",
       "      <td>/home/umermansoor/Downloads/ml1_internship/eco...</td>\n",
       "    </tr>\n",
       "    <tr>\n",
       "      <th>2</th>\n",
       "      <td>&lt;PIL.Image.Image image mode=RGB size=227x227 a...</td>\n",
       "      <td>0</td>\n",
       "      <td>/home/umermansoor/Downloads/ml1_internship/eco...</td>\n",
       "    </tr>\n",
       "    <tr>\n",
       "      <th>3</th>\n",
       "      <td>&lt;PIL.Image.Image image mode=RGB size=227x227 a...</td>\n",
       "      <td>0</td>\n",
       "      <td>/home/umermansoor/Downloads/ml1_internship/eco...</td>\n",
       "    </tr>\n",
       "    <tr>\n",
       "      <th>4</th>\n",
       "      <td>&lt;PIL.Image.Image image mode=RGB size=227x227 a...</td>\n",
       "      <td>0</td>\n",
       "      <td>/home/umermansoor/Downloads/ml1_internship/eco...</td>\n",
       "    </tr>\n",
       "  </tbody>\n",
       "</table>\n",
       "</div>"
      ],
      "text/plain": [
       "                                              Images  Labels  \\\n",
       "0  <PIL.Image.Image image mode=RGB size=227x227 a...       0   \n",
       "1  <PIL.Image.Image image mode=RGB size=227x227 a...       0   \n",
       "2  <PIL.Image.Image image mode=RGB size=227x227 a...       0   \n",
       "3  <PIL.Image.Image image mode=RGB size=227x227 a...       0   \n",
       "4  <PIL.Image.Image image mode=RGB size=227x227 a...       0   \n",
       "\n",
       "                                         Images Path  \n",
       "0  /home/umermansoor/Downloads/ml1_internship/eco...  \n",
       "1  /home/umermansoor/Downloads/ml1_internship/eco...  \n",
       "2  /home/umermansoor/Downloads/ml1_internship/eco...  \n",
       "3  /home/umermansoor/Downloads/ml1_internship/eco...  \n",
       "4  /home/umermansoor/Downloads/ml1_internship/eco...  "
      ]
     },
     "execution_count": 5,
     "metadata": {},
     "output_type": "execute_result"
    }
   ],
   "source": [
    "# create a csv using these lists \n",
    "import pandas as pd \n",
    "data = {'Images': images, 'Labels': labels, 'Images Path': images_path}\n",
    "df = pd.DataFrame(data)\n",
    "df.to_csv('images.csv', index=False)\n",
    "# now load the csv\n",
    "df = pd.read_csv('images.csv')\n",
    "# print the dataframe\n",
    "df.head()"
   ]
  },
  {
   "cell_type": "code",
   "execution_count": 6,
   "metadata": {},
   "outputs": [
    {
     "name": "stdout",
     "output_type": "stream",
     "text": [
      "<class 'pandas.core.frame.DataFrame'>\n",
      "RangeIndex: 2974 entries, 0 to 2973\n",
      "Data columns (total 3 columns):\n",
      " #   Column       Non-Null Count  Dtype \n",
      "---  ------       --------------  ----- \n",
      " 0   Images       2974 non-null   object\n",
      " 1   Labels       2974 non-null   int64 \n",
      " 2   Images Path  2974 non-null   object\n",
      "dtypes: int64(1), object(2)\n",
      "memory usage: 69.8+ KB\n"
     ]
    }
   ],
   "source": [
    "df.info()"
   ]
  },
  {
   "cell_type": "code",
   "execution_count": 7,
   "metadata": {},
   "outputs": [
    {
     "data": {
      "text/html": [
       "<div>\n",
       "<style scoped>\n",
       "    .dataframe tbody tr th:only-of-type {\n",
       "        vertical-align: middle;\n",
       "    }\n",
       "\n",
       "    .dataframe tbody tr th {\n",
       "        vertical-align: top;\n",
       "    }\n",
       "\n",
       "    .dataframe thead th {\n",
       "        text-align: right;\n",
       "    }\n",
       "</style>\n",
       "<table border=\"1\" class=\"dataframe\">\n",
       "  <thead>\n",
       "    <tr style=\"text-align: right;\">\n",
       "      <th></th>\n",
       "      <th>Images</th>\n",
       "      <th>Labels</th>\n",
       "      <th>Images Path</th>\n",
       "    </tr>\n",
       "  </thead>\n",
       "  <tbody>\n",
       "    <tr>\n",
       "      <th>0</th>\n",
       "      <td>&lt;PIL.Image.Image image mode=RGB size=227x227 a...</td>\n",
       "      <td>1</td>\n",
       "      <td>/home/umermansoor/Downloads/ml1_internship/eco...</td>\n",
       "    </tr>\n",
       "    <tr>\n",
       "      <th>1</th>\n",
       "      <td>&lt;PIL.Image.Image image mode=RGB size=227x227 a...</td>\n",
       "      <td>2</td>\n",
       "      <td>/home/umermansoor/Downloads/ml1_internship/eco...</td>\n",
       "    </tr>\n",
       "    <tr>\n",
       "      <th>2</th>\n",
       "      <td>&lt;PIL.Image.Image image mode=RGB size=227x227 a...</td>\n",
       "      <td>2</td>\n",
       "      <td>/home/umermansoor/Downloads/ml1_internship/eco...</td>\n",
       "    </tr>\n",
       "    <tr>\n",
       "      <th>3</th>\n",
       "      <td>&lt;PIL.Image.Image image mode=RGB size=227x227 a...</td>\n",
       "      <td>1</td>\n",
       "      <td>/home/umermansoor/Downloads/ml1_internship/eco...</td>\n",
       "    </tr>\n",
       "    <tr>\n",
       "      <th>4</th>\n",
       "      <td>&lt;PIL.Image.Image image mode=RGB size=227x227 a...</td>\n",
       "      <td>0</td>\n",
       "      <td>/home/umermansoor/Downloads/ml1_internship/eco...</td>\n",
       "    </tr>\n",
       "  </tbody>\n",
       "</table>\n",
       "</div>"
      ],
      "text/plain": [
       "                                              Images  Labels  \\\n",
       "0  <PIL.Image.Image image mode=RGB size=227x227 a...       1   \n",
       "1  <PIL.Image.Image image mode=RGB size=227x227 a...       2   \n",
       "2  <PIL.Image.Image image mode=RGB size=227x227 a...       2   \n",
       "3  <PIL.Image.Image image mode=RGB size=227x227 a...       1   \n",
       "4  <PIL.Image.Image image mode=RGB size=227x227 a...       0   \n",
       "\n",
       "                                         Images Path  \n",
       "0  /home/umermansoor/Downloads/ml1_internship/eco...  \n",
       "1  /home/umermansoor/Downloads/ml1_internship/eco...  \n",
       "2  /home/umermansoor/Downloads/ml1_internship/eco...  \n",
       "3  /home/umermansoor/Downloads/ml1_internship/eco...  \n",
       "4  /home/umermansoor/Downloads/ml1_internship/eco...  "
      ]
     },
     "execution_count": 7,
     "metadata": {},
     "output_type": "execute_result"
    }
   ],
   "source": [
    "# shuffle the dataset \n",
    "df = df.sample(frac=1).reset_index(drop=True)\n",
    "# print the dataframe\n",
    "df.head()"
   ]
  },
  {
   "cell_type": "code",
   "execution_count": 9,
   "metadata": {},
   "outputs": [
    {
     "name": "stdout",
     "output_type": "stream",
     "text": [
      "Model: \"sequential\"\n",
      "_________________________________________________________________\n",
      " Layer (type)                Output Shape              Param #   \n",
      "=================================================================\n",
      " conv2d (Conv2D)             (None, 217, 217, 96)      34944     \n",
      "                                                                 \n",
      " max_pooling2d (MaxPooling2  (None, 72, 72, 96)        0         \n",
      " D)                                                              \n",
      "                                                                 \n",
      " conv2d_1 (Conv2D)           (None, 68, 68, 256)       614656    \n",
      "                                                                 \n",
      " max_pooling2d_1 (MaxPoolin  (None, 22, 22, 256)       0         \n",
      " g2D)                                                            \n",
      "                                                                 \n",
      " conv2d_2 (Conv2D)           (None, 20, 20, 384)       885120    \n",
      "                                                                 \n",
      " conv2d_3 (Conv2D)           (None, 18, 18, 384)       1327488   \n",
      "                                                                 \n",
      " conv2d_4 (Conv2D)           (None, 16, 16, 256)       884992    \n",
      "                                                                 \n",
      " max_pooling2d_2 (MaxPoolin  (None, 5, 5, 256)         0         \n",
      " g2D)                                                            \n",
      "                                                                 \n",
      " flatten (Flatten)           (None, 6400)              0         \n",
      "                                                                 \n",
      " dense (Dense)               (None, 4096)              26218496  \n",
      "                                                                 \n",
      " dropout (Dropout)           (None, 4096)              0         \n",
      "                                                                 \n",
      " dense_1 (Dense)             (None, 4096)              16781312  \n",
      "                                                                 \n",
      " dropout_1 (Dropout)         (None, 4096)              0         \n",
      "                                                                 \n",
      " dense_2 (Dense)             (None, 3)                 12291     \n",
      "                                                                 \n",
      "=================================================================\n",
      "Total params: 46759299 (178.37 MB)\n",
      "Trainable params: 46759299 (178.37 MB)\n",
      "Non-trainable params: 0 (0.00 Byte)\n",
      "_________________________________________________________________\n"
     ]
    }
   ],
   "source": [
    "# now we will load the model finetuned.keras \n",
    "model = load_model(\"/home/umermansoor/Downloads/ml1_internship/ecommerce_scraping/finetuned.keras\")\n",
    "model.summary()"
   ]
  },
  {
   "cell_type": "code",
   "execution_count": 10,
   "metadata": {},
   "outputs": [
    {
     "name": "stdout",
     "output_type": "stream",
     "text": [
      "(2379,) (595,) (2379,) (595,)\n"
     ]
    }
   ],
   "source": [
    "# now we will train this model again on our dataset\n",
    "# first we will split the dataset into train and test\n",
    "from sklearn.model_selection import train_test_split\n",
    "# given the image, we have to predict the label\n",
    "X = df['Images Path']\n",
    "y = df['Labels']\n",
    "X_train, X_test, y_train, y_test = train_test_split(X, y, test_size=0.2, random_state=42)\n",
    "# print the shape of the train and test sets\n",
    "print(X_train.shape, X_test.shape, y_train.shape, y_test.shape)"
   ]
  },
  {
   "cell_type": "code",
   "execution_count": 11,
   "metadata": {},
   "outputs": [
    {
     "name": "stdout",
     "output_type": "stream",
     "text": [
      "Found 2380 validated image filenames.\n",
      "Found 594 validated image filenames.\n",
      "Epoch 1/10\n",
      "75/75 [==============================] - 675s 9s/step - loss: 0.5022 - accuracy: 0.8311 - val_loss: 0.4170 - val_accuracy: 0.8620\n",
      "Epoch 2/10\n",
      "75/75 [==============================] - 726s 10s/step - loss: 0.4428 - accuracy: 0.8458 - val_loss: 0.3591 - val_accuracy: 0.8923\n",
      "Epoch 3/10\n",
      "75/75 [==============================] - 614s 8s/step - loss: 0.4123 - accuracy: 0.8517 - val_loss: 0.3537 - val_accuracy: 0.8956\n",
      "Epoch 4/10\n",
      "75/75 [==============================] - 620s 8s/step - loss: 0.3807 - accuracy: 0.8660 - val_loss: 0.3972 - val_accuracy: 0.8620\n",
      "Epoch 5/10\n",
      "75/75 [==============================] - 572s 8s/step - loss: 0.3672 - accuracy: 0.8672 - val_loss: 0.3371 - val_accuracy: 0.8788\n",
      "Epoch 6/10\n",
      "75/75 [==============================] - 555s 7s/step - loss: 0.3203 - accuracy: 0.8777 - val_loss: 0.3072 - val_accuracy: 0.8855\n",
      "Epoch 7/10\n",
      "75/75 [==============================] - 549s 7s/step - loss: 0.3020 - accuracy: 0.8832 - val_loss: 0.2805 - val_accuracy: 0.8990\n",
      "Epoch 8/10\n",
      "75/75 [==============================] - 541s 7s/step - loss: 0.2830 - accuracy: 0.8891 - val_loss: 0.2725 - val_accuracy: 0.9057\n",
      "Epoch 9/10\n",
      "75/75 [==============================] - 554s 7s/step - loss: 0.2725 - accuracy: 0.8912 - val_loss: 0.2816 - val_accuracy: 0.9108\n",
      "Epoch 10/10\n",
      "75/75 [==============================] - 538s 7s/step - loss: 0.2557 - accuracy: 0.8929 - val_loss: 0.2796 - val_accuracy: 0.9209\n"
     ]
    }
   ],
   "source": [
    "# now we will create a data generator\n",
    "from tensorflow.keras.preprocessing.image import ImageDataGenerator\n",
    "# create a data generator\n",
    "datagen = ImageDataGenerator(rescale=1./255, validation_split=0.2)\n",
    "# create a train generator\n",
    "train_generator = datagen.flow_from_dataframe(df, x_col='Images Path', y_col='Labels', subset='training', target_size=(227, 227), class_mode='raw')\n",
    "# create a validation generator\n",
    "val_generator = datagen.flow_from_dataframe(df, x_col='Images Path', y_col='Labels', subset='validation', target_size=(227, 227), class_mode='raw')\n",
    "# now we will train the model\n",
    "model.compile(optimizer='adam', loss='sparse_categorical_crossentropy', metrics=['accuracy'])\n",
    "history = model.fit(train_generator, validation_data=val_generator, epochs=10)\n"
   ]
  },
  {
   "cell_type": "code",
   "execution_count": 24,
   "metadata": {},
   "outputs": [
    {
     "data": {
      "image/png": "[encoded data removed]",
      "text/plain": [
       "<Figure size 640x480 with 1 Axes>"
      ]
     },
     "metadata": {},
     "output_type": "display_data"
    }
   ],
   "source": [
    "# plot the training and validation accuracy\n",
    "import matplotlib.pyplot as plt\n",
    "plt.plot(history.history['accuracy'])\n",
    "plt.plot(history.history['val_accuracy'])\n",
    "plt.title('Model accuracy')\n",
    "plt.ylabel('Accuracy')\n",
    "plt.xlabel('Epoch')\n",
    "plt.legend(['Train', 'Val'], loc='upper left')\n",
    "plt.show()"
   ]
  },
  {
   "cell_type": "code",
   "execution_count": 12,
   "metadata": {},
   "outputs": [
    {
     "data": {
      "image/png": "[encoded data removed]",
      "text/plain": [
       "<Figure size 640x480 with 1 Axes>"
      ]
     },
     "metadata": {},
     "output_type": "display_data"
    }
   ],
   "source": [
    "# plot the training and validation accuracy\n",
    "import matplotlib.pyplot as plt\n",
    "plt.plot(history.history['accuracy'])\n",
    "plt.plot(history.history['val_accuracy'])\n",
    "plt.title('Model accuracy')\n",
    "plt.ylabel('Accuracy')\n",
    "plt.xlabel('Epoch')\n",
    "plt.legend(['Train', 'Val'], loc='upper left')\n",
    "plt.show()"
   ]
  },
  {
   "cell_type": "code",
   "execution_count": 42,
   "metadata": {},
   "outputs": [
    {
     "name": "stdout",
     "output_type": "stream",
     "text": [
      "1/1 [==============================] - 0s 128ms/step\n",
      "[[0. 1. 0.]]\n",
      "1\n"
     ]
    }
   ],
   "source": [
    "# take a picture and test it \n",
    "pic = cv2.imread('hello.jpg')\n",
    "pic = cv2.cvtColor(pic, cv2.COLOR_BGR2RGB)\n",
    "pic = cv2.resize(pic, (227, 227))\n",
    "pic = np.array(pic)\n",
    "pic = np.expand_dims(pic, axis=0)\n",
    "#print(pic)\n",
    "\n",
    "# now we will predict the class of the image\n",
    "prediction = model.predict(pic)\n",
    "print(prediction)\n",
    "# get the class with the highest probability\n",
    "print(np.argmax(prediction))"
   ]
  },
  {
   "cell_type": "code",
   "execution_count": 43,
   "metadata": {},
   "outputs": [],
   "source": [
    "# save the model and history \n",
    "model.save('finetuned.keras')\n",
    "import pickle\n",
    "with open('history.pkl', 'wb') as file_pi:\n",
    "    pickle.dump(history.history, file_pi)"
   ]
  }
 ],
 "metadata": {
  "kernelspec": {
   "display_name": "Python 3 (ipykernel)",
   "language": "python",
   "name": "python3"
  },
  "language_info": {
   "codemirror_mode": {
    "name": "ipython",
    "version": 3
   },
   "file_extension": ".py",
   "mimetype": "text/x-python",
   "name": "python",
   "nbconvert_exporter": "python",
   "pygments_lexer": "ipython3",
   "version": "3.11.5"
  }
 },
 "nbformat": 4,
 "nbformat_minor": 2
}
