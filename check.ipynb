{
 "cells": [
  {
   "cell_type": "code",
   "execution_count": 1,
   "metadata": {},
   "outputs": [],
   "source": [
    "import os \n",
    "import shutil"
   ]
  },
  {
   "cell_type": "code",
   "execution_count": 2,
   "metadata": {},
   "outputs": [
    {
     "name": "stdout",
     "output_type": "stream",
     "text": [
      "Number of images in the images folder:  301\n",
      "Number of annotations in the annotations folder:  301\n"
     ]
    }
   ],
   "source": [
    "# Define the paths to the Images and Annotations folders\n",
    "images_folder = 'images'  # Update with your actual path\n",
    "annotations_folder = 'annotations'  # Update with your actual path\n",
    "\n",
    "file1 = os.listdir(images_folder)\n",
    "file2 = os.listdir(annotations_folder)\n",
    "\n",
    "print(\"Number of images in the images folder: \", len(file1))\n",
    "print(\"Number of annotations in the annotations folder: \", len(file2))"
   ]
  },
  {
   "cell_type": "code",
   "execution_count": 3,
   "metadata": {},
   "outputs": [
    {
     "name": "stdout",
     "output_type": "stream",
     "text": [
      "Cleanup complete.\n"
     ]
    }
   ],
   "source": [
    "import os\n",
    "\n",
    "# Define the paths to the Images and Annotations folders\n",
    "images_folder = 'images'  # Update with your actual path\n",
    "annotations_folder = 'annotations'  # Update with your actual path\n",
    "\n",
    "# Get the list of image files and annotation files\n",
    "image_files = set(os.path.splitext(f)[0] for f in os.listdir(images_folder) if f.endswith(('.jpg', '.png','jpeg')))\n",
    "annotation_files = set(os.path.splitext(f)[0] for f in os.listdir(annotations_folder) if f.endswith('.txt'))\n",
    "\n",
    "# Find annotation files that do not have corresponding image files\n",
    "annotation_files_to_delete = annotation_files - image_files\n",
    "\n",
    "# Delete annotation files that do not have corresponding image files\n",
    "for annotation_file in annotation_files_to_delete:\n",
    "    file_path = os.path.join(annotations_folder, annotation_file + '.txt')\n",
    "    os.remove(file_path)\n",
    "    print(f'Deleted {file_path}')\n",
    "\n",
    "print('Cleanup complete.')"
   ]
  }
 ],
 "metadata": {
  "kernelspec": {
   "display_name": "Python 3",
   "language": "python",
   "name": "python3"
  },
  "language_info": {
   "codemirror_mode": {
    "name": "ipython",
    "version": 3
   },
   "file_extension": ".py",
   "mimetype": "text/x-python",
   "name": "python",
   "nbconvert_exporter": "python",
   "pygments_lexer": "ipython3",
   "version": "3.10.12"
  }
 },
 "nbformat": 4,
 "nbformat_minor": 2
}
