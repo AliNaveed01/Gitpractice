{
 "cells": [
  {
   "cell_type": "code",
   "execution_count": 1,
   "metadata": {},
   "outputs": [
    {
     "name": "stderr",
     "output_type": "stream",
     "text": [
      "2024-03-20 05:57:40.804201: E external/local_xla/xla/stream_executor/cuda/cuda_dnn.cc:9261] Unable to register cuDNN factory: Attempting to register factory for plugin cuDNN when one has already been registered\n",
      "2024-03-20 05:57:40.804232: E external/local_xla/xla/stream_executor/cuda/cuda_fft.cc:607] Unable to register cuFFT factory: Attempting to register factory for plugin cuFFT when one has already been registered\n",
      "2024-03-20 05:57:40.805124: E external/local_xla/xla/stream_executor/cuda/cuda_blas.cc:1515] Unable to register cuBLAS factory: Attempting to register factory for plugin cuBLAS when one has already been registered\n",
      "2024-03-20 05:57:40.812087: I tensorflow/core/platform/cpu_feature_guard.cc:182] This TensorFlow binary is optimized to use available CPU instructions in performance-critical operations.\n",
      "To enable the following instructions: AVX2 FMA, in other operations, rebuild TensorFlow with the appropriate compiler flags.\n",
      "2024-03-20 05:57:41.871401: W tensorflow/compiler/tf2tensorrt/utils/py_utils.cc:38] TF-TRT Warning: Could not find TensorRT\n"
     ]
    }
   ],
   "source": [
    "import numpy as np\n",
    "import pandas as pd\n",
    "import tensorflow as tf\n",
    "from tensorflow import keras\n",
    "from tensorflow.keras import layers\n",
    "from sklearn.model_selection import train_test_split\n",
    "# import load model and save model\n",
    "from tensorflow.keras.models import load_model, save_model, model_from_json, model_from_yaml\n",
    "import os\n",
    "import random\n",
    "import time"
   ]
  },
  {
   "cell_type": "code",
   "execution_count": 10,
   "metadata": {},
   "outputs": [
    {
     "name": "stdout",
     "output_type": "stream",
     "text": [
      "['2413_1.jpg', '2445_1.jpg', '2071_1.jpg', '2217_5.jpg', '2056_8.jpg', '2276_5.jpg', '2450_6.jpg', '2303_4.jpg', '2303_3.jpg', '2105_2.jpg', '2290_5.jpg', '2430_5.jpg', '2024_2.jpg', '2450_4.jpg', '2025_3.jpg', '2383_5.jpg', '2325_6.jpg', '2303_5.jpg', '2195_1.jpg', '2039_2.jpg', '2159_1.jpg', '2196_5.jpg', '2070_7.jpg', '2231_5.jpg', '2118_8.jpg', '2179_2.jpg', '2333_7.jpg', '2443_6.jpg', '2353_3.jpg', '2153_7.jpg', '2145_7.jpg', '2249_10.jpg', '2271_3.jpg', '2232_1.jpg', '2426_8.jpg', '2383_1.jpg', '2179_7.jpg', '2403_1.jpg', '2072_5.jpg', '2325_5.jpg', '2413_5.jpg', '2440_1.jpg', '2293_2.jpg', '2369_8.jpg', '2054_2.jpg', '2251_6.jpg', '2398_6.jpg', '2390_6.jpg', '2293_1.jpg', '2109_7.jpg', '2276_2.jpg', '2352_7.jpg', '2271_6.jpg', '2406_2.jpg', '2280_1.jpg', '2037_8.jpg', '2304_5.jpg', '2245_7.jpg', '2061_6.jpg', '2153_2.jpg', '2200_7.jpg', '2450_5.jpg', '2146_5.jpg', '2242_8.jpg', '2030_2.jpg', '2041_8.jpg', '2295_1.jpg', '2393_5.jpg', '2427_1.jpg', '2329_1.jpg', '2035_7.jpg', '2353_1.jpg', '2304_6.jpg', '2293_7.jpg', '2341_1.jpg', '2338_4.jpg', '2098_1.jpg', '2396_3.jpg', '2380_8.jpg', '2274_8.jpg', '2052_9.jpg', '2084_5.jpg', '2019_6.jpg', '2450_2.jpg', '2390_5.jpg', '2353_2.jpg', '2044_1.jpg', '2250_1.jpg', '2450_3.jpg', '2350_1.jpg', '2145_1.jpg', '2143_1.jpg', '2048_2.jpg', '2214_8.jpg', '2092_6.jpg', '2276_3.jpg', '2097_6.jpg', '2350_4.jpg', '2441_5.jpg']\n"
     ]
    }
   ],
   "source": [
    "# load the pictures from clothes folder\n",
    "clothes_folder = os.path.join(\"/home/naveedali/Desktop/ML1 Internship/Day 12 task/Clothes\")\n",
    "# list the files in the folder\n",
    "clothes_files = os.listdir(clothes_folder)\n",
    "# print the list of files\n",
    "print(clothes_files)\n",
    "\n",
    "# load the pictures from clothes folder\n",
    "modelsfolder = os.path.join(\"/home/naveedali/Desktop/ML1 Internship/Day 12 task/Models\")\n",
    "# list the files in the folder\n",
    "modelsfiles = os.listdir(modelsfolder)\n",
    "# print the list of files\n",
    "#print(modelsfiles)\n",
    "\n",
    "\n",
    "# load the pictures from clothes folder\n",
    "trashfolder = os.path.join(\"/home/naveedali/Desktop/ML1 Internship/Day 12 task/Trash\")\n",
    "# list the files in the folder\n",
    "trashfiles = os.listdir(trashfolder)\n",
    "# print the list of files\n",
    "#print(trashfiles)"
   ]
  },
  {
   "cell_type": "code",
   "execution_count": 11,
   "metadata": {},
   "outputs": [],
   "source": [
    "# now store the images in a list, their paths in a list and assign them label 0\n",
    "images = []\n",
    "images_path = []\n",
    "labels = []\n",
    "for file in clothes_files:\n",
    "    images_path.append(os.path.join(clothes_folder, file))\n",
    "    images.append(tf.keras.preprocessing.image.load_img(os.path.join(clothes_folder, file), target_size=(227, 227)))\n",
    "    labels.append(0)\n",
    "\n",
    "\n",
    "for file in modelsfiles:\n",
    "    images_path.append(os.path.join(modelsfolder, file))\n",
    "    images.append(tf.keras.preprocessing.image.load_img(os.path.join(modelsfolder, file), target_size=(227, 227)))\n",
    "    labels.append(1)\n",
    "    \n",
    "    \n",
    "for file in trashfiles:\n",
    "    images_path.append(os.path.join(trashfolder, file))\n",
    "    images.append(tf.keras.preprocessing.image.load_img(os.path.join(trashfolder, file), target_size=(227, 227)))\n",
    "    labels.append(2)"
   ]
  },
  {
   "cell_type": "code",
   "execution_count": 13,
   "metadata": {},
   "outputs": [
    {
     "data": {
      "text/html": [
       "<div>\n",
       "<style scoped>\n",
       "    .dataframe tbody tr th:only-of-type {\n",
       "        vertical-align: middle;\n",
       "    }\n",
       "\n",
       "    .dataframe tbody tr th {\n",
       "        vertical-align: top;\n",
       "    }\n",
       "\n",
       "    .dataframe thead th {\n",
       "        text-align: right;\n",
       "    }\n",
       "</style>\n",
       "<table border=\"1\" class=\"dataframe\">\n",
       "  <thead>\n",
       "    <tr style=\"text-align: right;\">\n",
       "      <th></th>\n",
       "      <th>Images</th>\n",
       "      <th>Labels</th>\n",
       "      <th>Images Path</th>\n",
       "    </tr>\n",
       "  </thead>\n",
       "  <tbody>\n",
       "    <tr>\n",
       "      <th>0</th>\n",
       "      <td>&lt;PIL.Image.Image image mode=RGB size=227x227 a...</td>\n",
       "      <td>0</td>\n",
       "      <td>/home/naveedali/Desktop/ML1 Internship/Day 12 ...</td>\n",
       "    </tr>\n",
       "    <tr>\n",
       "      <th>1</th>\n",
       "      <td>&lt;PIL.Image.Image image mode=RGB size=227x227 a...</td>\n",
       "      <td>0</td>\n",
       "      <td>/home/naveedali/Desktop/ML1 Internship/Day 12 ...</td>\n",
       "    </tr>\n",
       "    <tr>\n",
       "      <th>2</th>\n",
       "      <td>&lt;PIL.Image.Image image mode=RGB size=227x227 a...</td>\n",
       "      <td>0</td>\n",
       "      <td>/home/naveedali/Desktop/ML1 Internship/Day 12 ...</td>\n",
       "    </tr>\n",
       "    <tr>\n",
       "      <th>3</th>\n",
       "      <td>&lt;PIL.Image.Image image mode=RGB size=227x227 a...</td>\n",
       "      <td>0</td>\n",
       "      <td>/home/naveedali/Desktop/ML1 Internship/Day 12 ...</td>\n",
       "    </tr>\n",
       "    <tr>\n",
       "      <th>4</th>\n",
       "      <td>&lt;PIL.Image.Image image mode=RGB size=227x227 a...</td>\n",
       "      <td>0</td>\n",
       "      <td>/home/naveedali/Desktop/ML1 Internship/Day 12 ...</td>\n",
       "    </tr>\n",
       "  </tbody>\n",
       "</table>\n",
       "</div>"
      ],
      "text/plain": [
       "                                              Images  Labels  \\\n",
       "0  <PIL.Image.Image image mode=RGB size=227x227 a...       0   \n",
       "1  <PIL.Image.Image image mode=RGB size=227x227 a...       0   \n",
       "2  <PIL.Image.Image image mode=RGB size=227x227 a...       0   \n",
       "3  <PIL.Image.Image image mode=RGB size=227x227 a...       0   \n",
       "4  <PIL.Image.Image image mode=RGB size=227x227 a...       0   \n",
       "\n",
       "                                         Images Path  \n",
       "0  /home/naveedali/Desktop/ML1 Internship/Day 12 ...  \n",
       "1  /home/naveedali/Desktop/ML1 Internship/Day 12 ...  \n",
       "2  /home/naveedali/Desktop/ML1 Internship/Day 12 ...  \n",
       "3  /home/naveedali/Desktop/ML1 Internship/Day 12 ...  \n",
       "4  /home/naveedali/Desktop/ML1 Internship/Day 12 ...  "
      ]
     },
     "execution_count": 13,
     "metadata": {},
     "output_type": "execute_result"
    }
   ],
   "source": [
    "# create a csv using these lists \n",
    "import pandas as pd \n",
    "data = {'Images': images, 'Labels': labels, 'Images Path': images_path}\n",
    "df = pd.DataFrame(data)\n",
    "df.to_csv('images.csv', index=False)\n",
    "# now load the csv\n",
    "df = pd.read_csv('images.csv')\n",
    "# print the dataframe\n",
    "df.head()"
   ]
  },
  {
   "cell_type": "code",
   "execution_count": 14,
   "metadata": {},
   "outputs": [
    {
     "name": "stdout",
     "output_type": "stream",
     "text": [
      "<class 'pandas.core.frame.DataFrame'>\n",
      "RangeIndex: 351 entries, 0 to 350\n",
      "Data columns (total 3 columns):\n",
      " #   Column       Non-Null Count  Dtype \n",
      "---  ------       --------------  ----- \n",
      " 0   Images       351 non-null    object\n",
      " 1   Labels       351 non-null    int64 \n",
      " 2   Images Path  351 non-null    object\n",
      "dtypes: int64(1), object(2)\n",
      "memory usage: 8.4+ KB\n"
     ]
    }
   ],
   "source": [
    "df.info()"
   ]
  },
  {
   "cell_type": "code",
   "execution_count": 15,
   "metadata": {},
   "outputs": [
    {
     "data": {
      "text/html": [
       "<div>\n",
       "<style scoped>\n",
       "    .dataframe tbody tr th:only-of-type {\n",
       "        vertical-align: middle;\n",
       "    }\n",
       "\n",
       "    .dataframe tbody tr th {\n",
       "        vertical-align: top;\n",
       "    }\n",
       "\n",
       "    .dataframe thead th {\n",
       "        text-align: right;\n",
       "    }\n",
       "</style>\n",
       "<table border=\"1\" class=\"dataframe\">\n",
       "  <thead>\n",
       "    <tr style=\"text-align: right;\">\n",
       "      <th></th>\n",
       "      <th>Images</th>\n",
       "      <th>Labels</th>\n",
       "      <th>Images Path</th>\n",
       "    </tr>\n",
       "  </thead>\n",
       "  <tbody>\n",
       "    <tr>\n",
       "      <th>0</th>\n",
       "      <td>&lt;PIL.Image.Image image mode=RGB size=227x227 a...</td>\n",
       "      <td>2</td>\n",
       "      <td>/home/naveedali/Desktop/ML1 Internship/Day 12 ...</td>\n",
       "    </tr>\n",
       "    <tr>\n",
       "      <th>1</th>\n",
       "      <td>&lt;PIL.Image.Image image mode=RGB size=227x227 a...</td>\n",
       "      <td>0</td>\n",
       "      <td>/home/naveedali/Desktop/ML1 Internship/Day 12 ...</td>\n",
       "    </tr>\n",
       "    <tr>\n",
       "      <th>2</th>\n",
       "      <td>&lt;PIL.Image.Image image mode=RGB size=227x227 a...</td>\n",
       "      <td>2</td>\n",
       "      <td>/home/naveedali/Desktop/ML1 Internship/Day 12 ...</td>\n",
       "    </tr>\n",
       "    <tr>\n",
       "      <th>3</th>\n",
       "      <td>&lt;PIL.Image.Image image mode=RGB size=227x227 a...</td>\n",
       "      <td>2</td>\n",
       "      <td>/home/naveedali/Desktop/ML1 Internship/Day 12 ...</td>\n",
       "    </tr>\n",
       "    <tr>\n",
       "      <th>4</th>\n",
       "      <td>&lt;PIL.Image.Image image mode=RGB size=227x227 a...</td>\n",
       "      <td>0</td>\n",
       "      <td>/home/naveedali/Desktop/ML1 Internship/Day 12 ...</td>\n",
       "    </tr>\n",
       "  </tbody>\n",
       "</table>\n",
       "</div>"
      ],
      "text/plain": [
       "                                              Images  Labels  \\\n",
       "0  <PIL.Image.Image image mode=RGB size=227x227 a...       2   \n",
       "1  <PIL.Image.Image image mode=RGB size=227x227 a...       0   \n",
       "2  <PIL.Image.Image image mode=RGB size=227x227 a...       2   \n",
       "3  <PIL.Image.Image image mode=RGB size=227x227 a...       2   \n",
       "4  <PIL.Image.Image image mode=RGB size=227x227 a...       0   \n",
       "\n",
       "                                         Images Path  \n",
       "0  /home/naveedali/Desktop/ML1 Internship/Day 12 ...  \n",
       "1  /home/naveedali/Desktop/ML1 Internship/Day 12 ...  \n",
       "2  /home/naveedali/Desktop/ML1 Internship/Day 12 ...  \n",
       "3  /home/naveedali/Desktop/ML1 Internship/Day 12 ...  \n",
       "4  /home/naveedali/Desktop/ML1 Internship/Day 12 ...  "
      ]
     },
     "execution_count": 15,
     "metadata": {},
     "output_type": "execute_result"
    }
   ],
   "source": [
    "# shuffle the dataset \n",
    "df = df.sample(frac=1).reset_index(drop=True)\n",
    "# print the dataframe\n",
    "df.head()"
   ]
  },
  {
   "cell_type": "code",
   "execution_count": 16,
   "metadata": {},
   "outputs": [
    {
     "name": "stdout",
     "output_type": "stream",
     "text": [
      "Model: \"sequential\"\n",
      "_________________________________________________________________\n",
      " Layer (type)                Output Shape              Param #   \n",
      "=================================================================\n",
      " conv2d (Conv2D)             (None, 217, 217, 96)      34944     \n",
      "                                                                 \n",
      " max_pooling2d (MaxPooling2  (None, 72, 72, 96)        0         \n",
      " D)                                                              \n",
      "                                                                 \n",
      " conv2d_1 (Conv2D)           (None, 68, 68, 256)       614656    \n",
      "                                                                 \n",
      " max_pooling2d_1 (MaxPoolin  (None, 22, 22, 256)       0         \n",
      " g2D)                                                            \n",
      "                                                                 \n",
      " conv2d_2 (Conv2D)           (None, 20, 20, 384)       885120    \n",
      "                                                                 \n",
      " conv2d_3 (Conv2D)           (None, 18, 18, 384)       1327488   \n",
      "                                                                 \n",
      " conv2d_4 (Conv2D)           (None, 16, 16, 256)       884992    \n",
      "                                                                 \n",
      " max_pooling2d_2 (MaxPoolin  (None, 5, 5, 256)         0         \n",
      " g2D)                                                            \n",
      "                                                                 \n",
      " flatten (Flatten)           (None, 6400)              0         \n",
      "                                                                 \n",
      " dense (Dense)               (None, 4096)              26218496  \n",
      "                                                                 \n",
      " dropout (Dropout)           (None, 4096)              0         \n",
      "                                                                 \n",
      " dense_1 (Dense)             (None, 4096)              16781312  \n",
      "                                                                 \n",
      " dropout_1 (Dropout)         (None, 4096)              0         \n",
      "                                                                 \n",
      " dense_2 (Dense)             (None, 3)                 12291     \n",
      "                                                                 \n",
      "=================================================================\n",
      "Total params: 46759299 (178.37 MB)\n",
      "Trainable params: 46759299 (178.37 MB)\n",
      "Non-trainable params: 0 (0.00 Byte)\n",
      "_________________________________________________________________\n"
     ]
    }
   ],
   "source": [
    "# now we will load the model best.keras \n",
    "model = load_model(\"/home/naveedali/Desktop/ML1 Internship/Day 12 task/best.keras\")\n",
    "model.summary()"
   ]
  },
  {
   "cell_type": "code",
   "execution_count": 18,
   "metadata": {},
   "outputs": [
    {
     "name": "stdout",
     "output_type": "stream",
     "text": [
      "(280,) (71,) (280,) (71,)\n"
     ]
    }
   ],
   "source": [
    "# now we will train this model again on our dataset\n",
    "# first we will split the dataset into train and test\n",
    "from sklearn.model_selection import train_test_split\n",
    "# given the image, we have to predict the label\n",
    "X = df['Images Path']\n",
    "y = df['Labels']\n",
    "X_train, X_test, y_train, y_test = train_test_split(X, y, test_size=0.2, random_state=42)\n",
    "# print the shape of the train and test sets\n",
    "print(X_train.shape, X_test.shape, y_train.shape, y_test.shape)"
   ]
  },
  {
   "cell_type": "code",
   "execution_count": 19,
   "metadata": {},
   "outputs": [
    {
     "name": "stdout",
     "output_type": "stream",
     "text": [
      "Found 281 validated image filenames.\n",
      "Found 70 validated image filenames.\n",
      "Epoch 1/10\n",
      "9/9 [==============================] - 79s 9s/step - loss: 1.1229 - accuracy: 0.3843 - val_loss: 1.1247 - val_accuracy: 0.3143\n",
      "Epoch 2/10\n",
      "9/9 [==============================] - 86s 10s/step - loss: 0.9683 - accuracy: 0.5480 - val_loss: 0.6505 - val_accuracy: 0.7714\n",
      "Epoch 3/10\n",
      "9/9 [==============================] - 70s 8s/step - loss: 0.6827 - accuracy: 0.7260 - val_loss: 0.6891 - val_accuracy: 0.7143\n",
      "Epoch 4/10\n",
      "9/9 [==============================] - 73s 8s/step - loss: 0.5354 - accuracy: 0.7758 - val_loss: 0.5781 - val_accuracy: 0.7857\n",
      "Epoch 5/10\n",
      "9/9 [==============================] - 76s 8s/step - loss: 0.4744 - accuracy: 0.8221 - val_loss: 0.3784 - val_accuracy: 0.8571\n",
      "Epoch 6/10\n",
      "9/9 [==============================] - 72s 8s/step - loss: 0.3445 - accuracy: 0.8861 - val_loss: 0.4295 - val_accuracy: 0.8571\n",
      "Epoch 7/10\n",
      "9/9 [==============================] - 77s 8s/step - loss: 0.3691 - accuracy: 0.8577 - val_loss: 0.7249 - val_accuracy: 0.8000\n",
      "Epoch 8/10\n",
      "9/9 [==============================] - 78s 9s/step - loss: 0.5101 - accuracy: 0.7829 - val_loss: 0.4674 - val_accuracy: 0.8429\n",
      "Epoch 9/10\n",
      "9/9 [==============================] - 78s 9s/step - loss: 0.3547 - accuracy: 0.8719 - val_loss: 0.3293 - val_accuracy: 0.8714\n",
      "Epoch 10/10\n",
      "9/9 [==============================] - 79s 9s/step - loss: 0.2683 - accuracy: 0.9253 - val_loss: 0.3052 - val_accuracy: 0.8571\n"
     ]
    }
   ],
   "source": [
    "# now we will create a data generator\n",
    "from tensorflow.keras.preprocessing.image import ImageDataGenerator\n",
    "# create a data generator\n",
    "datagen = ImageDataGenerator(rescale=1./255, validation_split=0.2)\n",
    "# create a train generator\n",
    "train_generator = datagen.flow_from_dataframe(df, x_col='Images Path', y_col='Labels', subset='training', target_size=(227, 227), class_mode='raw')\n",
    "# create a validation generator\n",
    "val_generator = datagen.flow_from_dataframe(df, x_col='Images Path', y_col='Labels', subset='validation', target_size=(227, 227), class_mode='raw')\n",
    "# now we will train the model\n",
    "model.compile(optimizer='adam', loss='sparse_categorical_crossentropy', metrics=['accuracy'])\n",
    "history = model.fit(train_generator, validation_data=val_generator, epochs=10)\n"
   ]
  },
  {
   "cell_type": "code",
   "execution_count": 24,
   "metadata": {},
   "outputs": [
    {
     "data": {
      "image/png": "[encoded data removed]",
      "text/plain": [
       "<Figure size 640x480 with 1 Axes>"
      ]
     },
     "metadata": {},
     "output_type": "display_data"
    }
   ],
   "source": [
    "# plot the training and validation accuracy\n",
    "import matplotlib.pyplot as plt\n",
    "plt.plot(history.history['accuracy'])\n",
    "plt.plot(history.history['val_accuracy'])\n",
    "plt.title('Model accuracy')\n",
    "plt.ylabel('Accuracy')\n",
    "plt.xlabel('Epoch')\n",
    "plt.legend(['Train', 'Val'], loc='upper left')\n",
    "plt.show()"
   ]
  },
  {
   "cell_type": "code",
   "execution_count": 42,
   "metadata": {},
   "outputs": [
    {
     "name": "stdout",
     "output_type": "stream",
     "text": [
      "1/1 [==============================] - 0s 128ms/step\n",
      "[[0. 1. 0.]]\n",
      "1\n"
     ]
    }
   ],
   "source": [
    "# take a picture and test it \n",
    "pic = cv2.imread('hello.jpg')\n",
    "pic = cv2.cvtColor(pic, cv2.COLOR_BGR2RGB)\n",
    "pic = cv2.resize(pic, (227, 227))\n",
    "pic = np.array(pic)\n",
    "pic = np.expand_dims(pic, axis=0)\n",
    "#print(pic)\n",
    "\n",
    "# now we will predict the class of the image\n",
    "prediction = model.predict(pic)\n",
    "print(prediction)\n",
    "# get the class with the highest probability\n",
    "print(np.argmax(prediction))"
   ]
  },
  {
   "cell_type": "code",
   "execution_count": 43,
   "metadata": {},
   "outputs": [],
   "source": [
    "# save the model and history \n",
    "model.save('finetuned.keras')\n",
    "import pickle\n",
    "with open('history.pkl', 'wb') as file_pi:\n",
    "    pickle.dump(history.history, file_pi)"
   ]
  }
 ],
 "metadata": {
  "kernelspec": {
   "display_name": "Python 3",
   "language": "python",
   "name": "python3"
  },
  "language_info": {
   "codemirror_mode": {
    "name": "ipython",
    "version": 3
   },
   "file_extension": ".py",
   "mimetype": "text/x-python",
   "name": "python",
   "nbconvert_exporter": "python",
   "pygments_lexer": "ipython3",
   "version": "3.10.12"
  }
 },
 "nbformat": 4,
 "nbformat_minor": 2
}
